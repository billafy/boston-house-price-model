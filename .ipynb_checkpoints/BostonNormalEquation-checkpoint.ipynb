{
 "cells": [
  {
   "cell_type": "markdown",
   "id": "e6c1bd0c",
   "metadata": {},
   "source": [
    "# Boston House Price Prediction using Normal Equation"
   ]
  },
  {
   "cell_type": "code",
   "execution_count": 8,
   "id": "c75ac970",
   "metadata": {},
   "outputs": [],
   "source": [
    "import numpy as np\n",
    "import pandas as pd\n",
    "import matplotlib.pyplot as plt\n",
    "\n",
    "from numpy import dot\n",
    "from numpy.linalg import inv"
   ]
  },
  {
   "cell_type": "markdown",
   "id": "c9704aba",
   "metadata": {},
   "source": [
    "### Building the dataset"
   ]
  },
  {
   "cell_type": "code",
   "execution_count": 9,
   "id": "ffec908f",
   "metadata": {},
   "outputs": [],
   "source": [
    "from sklearn.datasets import load_boston\n",
    "\n",
    "from sklearn.model_selection import train_test_split\n",
    "\n",
    "boston = load_boston()\n",
    "    \n",
    "X = pd.DataFrame(boston.data, columns = boston.feature_names)\n",
    "y = pd.Series(boston.target)\n",
    "\n",
    "(m, n) = X.shape\n",
    "X.insert(0, 'BIAS', np.ones(m))\n",
    "\n",
    "X_train, X_test, y_train, y_test = train_test_split(X, y, test_size = 0.25, random_state = 3)\n",
    "(m_train) = X_train.shape[0]\n",
    "(m_test) = X_test.shape[0]"
   ]
  },
  {
   "cell_type": "markdown",
   "id": "0d5a7a67",
   "metadata": {},
   "source": [
    "### Normal Equation"
   ]
  },
  {
   "cell_type": "code",
   "execution_count": 10,
   "id": "5ad133ca",
   "metadata": {},
   "outputs": [],
   "source": [
    "theta = dot(dot(inv(dot(X_train.T, X_train)), X_train.T), y_train)"
   ]
  },
  {
   "cell_type": "markdown",
   "id": "6a136ea0",
   "metadata": {},
   "source": [
    "### Hypothesis function for prediction"
   ]
  },
  {
   "cell_type": "code",
   "execution_count": 11,
   "id": "dde03622",
   "metadata": {},
   "outputs": [],
   "source": [
    "def hypothesis(theta, x) : \n",
    "    return np.dot(x, theta)"
   ]
  },
  {
   "cell_type": "markdown",
   "id": "9bfbfc29",
   "metadata": {},
   "source": [
    "### Cost function to calculate the mean squares residual"
   ]
  },
  {
   "cell_type": "code",
   "execution_count": 12,
   "id": "1f0a3e39",
   "metadata": {},
   "outputs": [],
   "source": [
    "def costFunction(theta) : \n",
    "    J = (1 / m_train) * sum((hypothesis(theta, X_train) - y_train) ** 2) \n",
    "    return J"
   ]
  },
  {
   "cell_type": "code",
   "execution_count": 13,
   "id": "70a3fe05",
   "metadata": {},
   "outputs": [
    {
     "name": "stdout",
     "output_type": "stream",
     "text": [
      "Cost of the model : 23.262502408755527\n"
     ]
    }
   ],
   "source": [
    "print(f'Cost of the model : {costFunction(theta)}')"
   ]
  },
  {
   "cell_type": "markdown",
   "id": "8a54f1ae",
   "metadata": {},
   "source": [
    "### Testing model's efficiency (error of less than or equal to 5 is considered as a correct prediction)"
   ]
  },
  {
   "cell_type": "code",
   "execution_count": 14,
   "id": "0a945b62",
   "metadata": {},
   "outputs": [
    {
     "name": "stdout",
     "output_type": "stream",
     "text": [
      "Model efficiency 82.67716535433071%\n"
     ]
    }
   ],
   "source": [
    "predictions = hypothesis(theta, X_test)\n",
    "correct = len(predictions[abs(predictions - y_test) <= 5])\n",
    "efficiency = correct * 100 / m_test\n",
    "\n",
    "print(f'Model efficiency {efficiency}%')"
   ]
  }
 ],
 "metadata": {
  "kernelspec": {
   "display_name": "Python 3 (ipykernel)",
   "language": "python",
   "name": "python3"
  },
  "language_info": {
   "codemirror_mode": {
    "name": "ipython",
    "version": 3
   },
   "file_extension": ".py",
   "mimetype": "text/x-python",
   "name": "python",
   "nbconvert_exporter": "python",
   "pygments_lexer": "ipython3",
   "version": "3.9.6"
  }
 },
 "nbformat": 4,
 "nbformat_minor": 5
}
