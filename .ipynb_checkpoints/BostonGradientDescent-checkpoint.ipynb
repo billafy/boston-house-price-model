{
 "cells": [
  {
   "cell_type": "markdown",
   "id": "53f953fc",
   "metadata": {},
   "source": [
    "# Boston House Price prediction implemented using a self-written gradient descent algorithm"
   ]
  },
  {
   "cell_type": "code",
   "execution_count": 511,
   "id": "cd7e9090",
   "metadata": {},
   "outputs": [],
   "source": [
    "import numpy as np\n",
    "import pandas as pd\n",
    "import matplotlib.pyplot as plt"
   ]
  },
  {
   "cell_type": "markdown",
   "id": "6ca5edd3",
   "metadata": {},
   "source": [
    "### Fetching the dataset"
   ]
  },
  {
   "cell_type": "code",
   "execution_count": 512,
   "id": "21b9646b",
   "metadata": {},
   "outputs": [],
   "source": [
    "from sklearn.datasets import load_boston\n",
    "\n",
    "boston = load_boston()\n",
    "\n",
    "data = pd.DataFrame(boston.data, columns = boston.feature_names)\n",
    "data['PRICE'] = boston.target"
   ]
  },
  {
   "cell_type": "markdown",
   "id": "1fe53964",
   "metadata": {},
   "source": [
    "### Eliminating features with low correlation value with the target"
   ]
  },
  {
   "cell_type": "code",
   "execution_count": 513,
   "id": "1ee85340",
   "metadata": {},
   "outputs": [
    {
     "name": "stdout",
     "output_type": "stream",
     "text": [
      "Features to use : ['CRIM', 'ZN', 'INDUS', 'NOX', 'RM', 'AGE', 'DIS', 'RAD', 'TAX', 'PTRATIO', 'B', 'LSTAT']\n"
     ]
    }
   ],
   "source": [
    "correlations = data.corr()['PRICE']\n",
    "\n",
    "features = correlations[abs(correlations) > 0.2]\n",
    "\n",
    "featureNames = [name for name, cor in features.iteritems()]\n",
    "featureNames.pop()\n",
    "\n",
    "print(f'Features to use : {featureNames}')"
   ]
  },
  {
   "cell_type": "markdown",
   "id": "4c858bb3",
   "metadata": {},
   "source": [
    "### Modifying the dataset for gradient descent"
   ]
  },
  {
   "cell_type": "code",
   "execution_count": 514,
   "id": "9dfa33d5",
   "metadata": {},
   "outputs": [],
   "source": [
    "from sklearn.model_selection import train_test_split\n",
    "\n",
    "X = data[featureNames]\n",
    "y = data['PRICE']\n",
    "\n",
    "m = X.shape[0]\n",
    "\n",
    "# scaling the features\n",
    "\n",
    "featuresMean = X.mean()\n",
    "featuresSigma = X.std()\n",
    "X = (X - featuresMean) / featuresSigma\n",
    "\n",
    "# inserting the bias column with ones\n",
    "\n",
    "X.insert(0, 'BIAS', np.ones(m))\n",
    "\n",
    "n = X.shape[1]\n",
    "\n",
    "X_train, X_test, y_train, y_test = train_test_split(X, y, test_size = 0.25, random_state = 3)\n",
    "\n",
    "m_train = X_train.shape[0]\n",
    "m_test = X_test.shape[0]\n",
    "\n",
    "# regularization term (lambda)\n",
    "lam = 100"
   ]
  },
  {
   "cell_type": "markdown",
   "id": "2203fe2a",
   "metadata": {},
   "source": [
    "### Hypothesis function for prediction"
   ]
  },
  {
   "cell_type": "code",
   "execution_count": 515,
   "id": "9990ec61",
   "metadata": {},
   "outputs": [],
   "source": [
    "def hypothesis(theta, x) : \n",
    "    h = np.dot(x, theta)\n",
    "    return h"
   ]
  },
  {
   "cell_type": "markdown",
   "id": "6ae6fd95",
   "metadata": {},
   "source": [
    "### Cost function which calculates mean squares residual"
   ]
  },
  {
   "cell_type": "code",
   "execution_count": 516,
   "id": "39fa0339",
   "metadata": {},
   "outputs": [],
   "source": [
    "def costFunction(theta) : \n",
    "    J = (1 / m_train) * (sum((hypothesis(theta, X_train) - y_train) ** 2) + (lam * sum(theta[1:] ** 2)))\n",
    "    return J"
   ]
  },
  {
   "cell_type": "markdown",
   "id": "230c7d29",
   "metadata": {},
   "source": [
    "### Differential of cost function to tweak the value of theta"
   ]
  },
  {
   "cell_type": "code",
   "execution_count": 517,
   "id": "22a526f7",
   "metadata": {},
   "outputs": [],
   "source": [
    "def differentialCostFunction(theta) : \n",
    "    d = np.sum(((hypothesis(theta, X_train) - y_train).T * X_train.T), axis = 1) + (lam * np.append(np.ones(1), theta[1:]))\n",
    "    return d"
   ]
  },
  {
   "cell_type": "markdown",
   "id": "3a66a85e",
   "metadata": {},
   "source": [
    "### Gradient descent which minimizes the cost of the model"
   ]
  },
  {
   "cell_type": "code",
   "execution_count": 518,
   "id": "ee8d46e7",
   "metadata": {},
   "outputs": [],
   "source": [
    "def gradientDescent() : \n",
    "    theta, alpha = np.zeros(n), 0.01\n",
    "    J = costFunction(theta)\n",
    "    while True : \n",
    "        newTheta = theta - ((alpha / m_train) * differentialCostFunction(theta))\n",
    "        newJ = costFunction(newTheta)\n",
    "        if newJ >= J or abs(newJ - J) < 0.01 : \n",
    "            break\n",
    "        else : \n",
    "            theta = newTheta\n",
    "            J = newJ\n",
    "    return theta"
   ]
  },
  {
   "cell_type": "code",
   "execution_count": 519,
   "id": "f72bb694",
   "metadata": {},
   "outputs": [
    {
     "name": "stdout",
     "output_type": "stream",
     "text": [
      "Cost of the model : 33.09182091529209\n"
     ]
    }
   ],
   "source": [
    "theta = gradientDescent()\n",
    "\n",
    "J = costFunction(theta)\n",
    "\n",
    "print(f'Cost of the model : {J}')"
   ]
  },
  {
   "cell_type": "code",
   "execution_count": 520,
   "id": "4f8816b7",
   "metadata": {},
   "outputs": [
    {
     "name": "stdout",
     "output_type": "stream",
     "text": [
      "\n",
      "Model efficiency for the training set : 81.2664907651715%\n",
      "Model efficiency for the testing set : 84.25196850393701%\n",
      "\n"
     ]
    }
   ],
   "source": [
    "predictions_train = hypothesis(theta, X_train)\n",
    "predictions_test = hypothesis(theta, X_test)\n",
    "\n",
    "correct_train = len(predictions_train[abs(predictions_train - y_train) <= 5])\n",
    "correct_test = len(predictions_test[abs(predictions_test - y_test) <= 5])\n",
    "\n",
    "print(f'''\n",
    "Model efficiency for the training set : {correct_train * 100 / m_train}%\n",
    "Model efficiency for the testing set : {correct_test * 100 / m_test}%\n",
    "''')"
   ]
  }
 ],
 "metadata": {
  "kernelspec": {
   "display_name": "Python 3 (ipykernel)",
   "language": "python",
   "name": "python3"
  },
  "language_info": {
   "codemirror_mode": {
    "name": "ipython",
    "version": 3
   },
   "file_extension": ".py",
   "mimetype": "text/x-python",
   "name": "python",
   "nbconvert_exporter": "python",
   "pygments_lexer": "ipython3",
   "version": "3.9.6"
  }
 },
 "nbformat": 4,
 "nbformat_minor": 5
}
