{
 "cells": [
  {
   "cell_type": "code",
   "execution_count": 71,
   "id": "c75ac970",
   "metadata": {},
   "outputs": [],
   "source": [
    "import numpy as np\n",
    "import pandas as pd\n",
    "import matplotlib.pyplot as plt\n",
    "\n",
    "from numpy import dot\n",
    "from numpy.linalg import inv"
   ]
  },
  {
   "cell_type": "code",
   "execution_count": 72,
   "id": "ffec908f",
   "metadata": {},
   "outputs": [],
   "source": [
    "from sklearn.datasets import load_boston\n",
    "\n",
    "boston = load_boston()\n",
    "data = [[]] * len(boston.data)\n",
    "\n",
    "for i in range(len(boston.data)) : \n",
    "    data[i] = np.insert(boston.data[i], 0, 1)\n",
    "\n",
    "featureNames = np.insert(boston.feature_names, 0, 'BIAS')\n",
    "    \n",
    "X = pd.DataFrame(data, columns = featureNames)\n",
    "y = pd.Series(boston.target)\n",
    "\n",
    "(m, n) = X.shape"
   ]
  },
  {
   "cell_type": "code",
   "execution_count": 73,
   "id": "5ad133ca",
   "metadata": {},
   "outputs": [],
   "source": [
    "theta = dot(dot(inv(dot(X.T, X)), X.T), y)"
   ]
  },
  {
   "cell_type": "code",
   "execution_count": 74,
   "id": "dde03622",
   "metadata": {},
   "outputs": [],
   "source": [
    "def hypothesis(theta, x) : \n",
    "    return np.dot(theta, x)"
   ]
  },
  {
   "cell_type": "code",
   "execution_count": 75,
   "id": "1f0a3e39",
   "metadata": {},
   "outputs": [],
   "source": [
    "def costFunction(theta) : \n",
    "    J = 0\n",
    "    for i in range(m) : \n",
    "        J += (hypothesis(theta, X.iloc[i]) - y[i]) ** 2\n",
    "    J = J / m\n",
    "    return J"
   ]
  },
  {
   "cell_type": "code",
   "execution_count": 78,
   "id": "70a3fe05",
   "metadata": {},
   "outputs": [
    {
     "name": "stdout",
     "output_type": "stream",
     "text": [
      "Cost of the model : 21.894831181729216\n"
     ]
    }
   ],
   "source": [
    "print(f'Cost of the model : {costFunction(theta)}')"
   ]
  },
  {
   "cell_type": "code",
   "execution_count": 86,
   "id": "7da20d15",
   "metadata": {},
   "outputs": [
    {
     "name": "stdout",
     "output_type": "stream",
     "text": [
      "Model efficiency 80.23715415019763%\n"
     ]
    }
   ],
   "source": [
    "predictions = []\n",
    "\n",
    "correct = 0\n",
    "\n",
    "for i in range(len(X)) : \n",
    "    predictions.append(hypothesis(theta, X.iloc[i]))\n",
    "    if abs(predictions[i] - y[i]) <= 5 :   \n",
    "        correct += 1\n",
    "        \n",
    "efficiency = correct * 100 / len(X)\n",
    "\n",
    "print(f'Model efficiency {efficiency}%')"
   ]
  }
 ],
 "metadata": {
  "kernelspec": {
   "display_name": "Python 3 (ipykernel)",
   "language": "python",
   "name": "python3"
  },
  "language_info": {
   "codemirror_mode": {
    "name": "ipython",
    "version": 3
   },
   "file_extension": ".py",
   "mimetype": "text/x-python",
   "name": "python",
   "nbconvert_exporter": "python",
   "pygments_lexer": "ipython3",
   "version": "3.9.6"
  }
 },
 "nbformat": 4,
 "nbformat_minor": 5
}
